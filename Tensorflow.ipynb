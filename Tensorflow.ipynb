{
 "cells": [
  {
   "cell_type": "markdown",
   "metadata": {},
   "source": [
    "### Import some modules"
   ]
  },
  {
   "cell_type": "code",
   "execution_count": 1,
   "metadata": {},
   "outputs": [],
   "source": [
    "import os\n",
    "import numpy as np\n",
    "import matplotlib.pyplot as plt\n",
    "import tensorflow as tf"
   ]
  },
  {
   "cell_type": "markdown",
   "metadata": {},
   "source": [
    "### Define myCallbacks class\n",
    "After every epoch we can check the accuracy from the logs and stop the model if the desired accuracy is reached. Similar to on_epoch_end there is on_batch_end."
   ]
  },
  {
   "cell_type": "code",
   "execution_count": 2,
   "metadata": {},
   "outputs": [],
   "source": [
    "class myCallbacks(tf.keras.callbacks.Callback):\n",
    "    def on_epoch_end(self, epoch, logs = {}):\n",
    "        if (logs.get('acc') > 0.98):\n",
    "            print('\\nAchieved an accuracy of 98%')\n",
    "            self.model.stop_training = True\n",
    "        \n",
    "# Create an instance of myCallbacks()\n",
    "callbacks = myCallbacks()            "
   ]
  },
  {
   "cell_type": "markdown",
   "metadata": {},
   "source": [
    "### Try 1\n",
    "Building a simple neurel network with a single hidden layer with 512 neurons"
   ]
  },
  {
   "cell_type": "code",
   "execution_count": 6,
   "metadata": {},
   "outputs": [
    {
     "name": "stdout",
     "output_type": "stream",
     "text": [
      "Model: \"sequential_1\"\n",
      "_________________________________________________________________\n",
      "Layer (type)                 Output Shape              Param #   \n",
      "=================================================================\n",
      "flatten_1 (Flatten)          (None, 49152)             0         \n",
      "_________________________________________________________________\n",
      "dense_2 (Dense)              (None, 512)               25166336  \n",
      "_________________________________________________________________\n",
      "dense_3 (Dense)              (None, 1)                 513       \n",
      "=================================================================\n",
      "Total params: 25,166,849\n",
      "Trainable params: 25,166,849\n",
      "Non-trainable params: 0\n",
      "_________________________________________________________________\n"
     ]
    }
   ],
   "source": [
    "model = tf.keras.models.Sequential([\n",
    "        tf.keras.layers.Flatten(input_shape = (128, 128, 3)),\n",
    "        tf.keras.layers.Dense(512, activation = 'relu'),\n",
    "        tf.keras.layers.Dense(1, activation = 'sigmoid')\n",
    "])\n",
    "\n",
    "model.compile(loss = 'binary_crossentropy', optimizer = 'adam', metrics = ['accuracy'])\n",
    "model.summary()"
   ]
  },
  {
   "cell_type": "markdown",
   "metadata": {},
   "source": [
    "### ImageDataGenerator\n",
    "Keras provides a generator which can label the images automatically based on the directory name. This saves a lot of time by avoiding manually labelling the data and also does not require us to load the entire image set into the file system. "
   ]
  },
  {
   "cell_type": "code",
   "execution_count": 3,
   "metadata": {},
   "outputs": [
    {
     "name": "stdout",
     "output_type": "stream",
     "text": [
      "Found 8000 images belonging to 2 classes.\n",
      "Found 2000 images belonging to 2 classes.\n"
     ]
    }
   ],
   "source": [
    "from tensorflow.keras.preprocessing.image import ImageDataGenerator\n",
    "\n",
    "# Normalize the image\n",
    "train_generator = ImageDataGenerator(rescale = 1/255)\n",
    "\n",
    "# Creating a generator for training data. Target_size resizes every image into the specified size.\n",
    "train_data = train_generator.flow_from_directory(\n",
    "                '/home/srikar/dataset/training_set/',\n",
    "                target_size = (128,128),\n",
    "                batch_size = 32,\n",
    "                class_mode = 'binary')\n",
    "\n",
    "test_genrator = ImageDataGenerator(rescale = 1/255)\n",
    "# Creating a generator for training data.\n",
    "test_data = test_genrator.flow_from_directory(\n",
    "                '/home/srikar/dataset/test_set/',\n",
    "                target_size = (128,128),\n",
    "                batch_size = 32,\n",
    "                class_mode = 'binary')"
   ]
  },
  {
   "cell_type": "markdown",
   "metadata": {},
   "source": [
    "### Fit the model\n",
    "Instead of traditional model.fit(), we need to use model.fit_generator as we are using ImageDataGenerator.\n",
    "Specify callbacks to stop training once it reaches the desired accuracy\n",
    "\n",
    "Even if steps_per_epoch are not specified, keras automatically takes the steps based on batch_size which was defined earlier.\n",
    "\n",
    "We can take the model into a variable whoch can later be used to access the model parameters."
   ]
  },
  {
   "cell_type": "code",
   "execution_count": 8,
   "metadata": {
    "scrolled": true
   },
   "outputs": [
    {
     "name": "stdout",
     "output_type": "stream",
     "text": [
      "Epoch 1/50\n",
      "250/250 [==============================] - 111s 445ms/step - loss: 3.5809 - acc: 0.5254 - val_loss: 0.8961 - val_acc: 0.5665\n",
      "Epoch 2/50\n",
      "250/250 [==============================] - 109s 437ms/step - loss: 1.8350 - acc: 0.5372 - val_loss: 1.1874 - val_acc: 0.5460\n",
      "Epoch 3/50\n",
      "250/250 [==============================] - 112s 447ms/step - loss: 0.8476 - acc: 0.5822 - val_loss: 0.7742 - val_acc: 0.5900\n",
      "Epoch 4/50\n",
      "250/250 [==============================] - 109s 436ms/step - loss: 0.7737 - acc: 0.5890 - val_loss: 0.6767 - val_acc: 0.5910\n",
      "Epoch 5/50\n",
      "250/250 [==============================] - 108s 432ms/step - loss: 0.6780 - acc: 0.6256 - val_loss: 0.7685 - val_acc: 0.5510\n",
      "Epoch 6/50\n",
      "250/250 [==============================] - 105s 420ms/step - loss: 0.6996 - acc: 0.6134 - val_loss: 0.7101 - val_acc: 0.5560\n",
      "Epoch 7/50\n",
      "250/250 [==============================] - 98s 390ms/step - loss: 0.6812 - acc: 0.6080 - val_loss: 0.6674 - val_acc: 0.6145\n",
      "Epoch 8/50\n",
      "250/250 [==============================] - 102s 408ms/step - loss: 0.6429 - acc: 0.6273 - val_loss: 0.6831 - val_acc: 0.5905\n",
      "Epoch 9/50\n",
      "250/250 [==============================] - 105s 418ms/step - loss: 0.6384 - acc: 0.6351 - val_loss: 0.6455 - val_acc: 0.6305\n",
      "Epoch 10/50\n",
      "250/250 [==============================] - 86s 345ms/step - loss: 0.6349 - acc: 0.6407 - val_loss: 0.6526 - val_acc: 0.6120\n",
      "Epoch 11/50\n",
      "250/250 [==============================] - 75s 302ms/step - loss: 0.6356 - acc: 0.6354 - val_loss: 0.6593 - val_acc: 0.6110\n",
      "Epoch 12/50\n",
      "250/250 [==============================] - 99s 395ms/step - loss: 0.6307 - acc: 0.6406 - val_loss: 0.6675 - val_acc: 0.5985\n",
      "Epoch 13/50\n",
      "250/250 [==============================] - 125s 498ms/step - loss: 0.6138 - acc: 0.6636 - val_loss: 0.6465 - val_acc: 0.6185\n",
      "Epoch 14/50\n",
      "250/250 [==============================] - 109s 438ms/step - loss: 0.6328 - acc: 0.6388 - val_loss: 0.7016 - val_acc: 0.5790\n",
      "Epoch 15/50\n",
      "250/250 [==============================] - 84s 338ms/step - loss: 0.6175 - acc: 0.6579 - val_loss: 0.6634 - val_acc: 0.6055\n",
      "Epoch 16/50\n",
      "250/250 [==============================] - 64s 255ms/step - loss: 0.6130 - acc: 0.6645 - val_loss: 0.6552 - val_acc: 0.6035\n",
      "Epoch 17/50\n",
      "250/250 [==============================] - 96s 383ms/step - loss: 0.6035 - acc: 0.6684 - val_loss: 0.6850 - val_acc: 0.6045\n",
      "Epoch 18/50\n",
      "250/250 [==============================] - 108s 433ms/step - loss: 0.6015 - acc: 0.6660 - val_loss: 0.7142 - val_acc: 0.5545\n",
      "Epoch 19/50\n",
      "250/250 [==============================] - 99s 395ms/step - loss: 0.6159 - acc: 0.6494 - val_loss: 0.6651 - val_acc: 0.6105\n",
      "Epoch 20/50\n",
      "250/250 [==============================] - 109s 437ms/step - loss: 0.6045 - acc: 0.6693 - val_loss: 0.6403 - val_acc: 0.6260\n",
      "Epoch 21/50\n",
      "250/250 [==============================] - 106s 423ms/step - loss: 0.5923 - acc: 0.6885 - val_loss: 0.6713 - val_acc: 0.6165\n",
      "Epoch 22/50\n",
      "250/250 [==============================] - 101s 403ms/step - loss: 0.5857 - acc: 0.6854 - val_loss: 0.6934 - val_acc: 0.5840\n",
      "Epoch 23/50\n",
      "250/250 [==============================] - 96s 385ms/step - loss: 0.5795 - acc: 0.6848 - val_loss: 0.6911 - val_acc: 0.6135\n",
      "Epoch 24/50\n",
      "250/250 [==============================] - 119s 476ms/step - loss: 0.6033 - acc: 0.6668 - val_loss: 0.6461 - val_acc: 0.6335\n",
      "Epoch 25/50\n",
      "250/250 [==============================] - 102s 409ms/step - loss: 0.5976 - acc: 0.6685 - val_loss: 0.7165 - val_acc: 0.5965\n",
      "Epoch 26/50\n",
      "250/250 [==============================] - 119s 475ms/step - loss: 0.6032 - acc: 0.6675 - val_loss: 0.6468 - val_acc: 0.6200\n",
      "Epoch 27/50\n",
      "250/250 [==============================] - 78s 311ms/step - loss: 0.5997 - acc: 0.6740 - val_loss: 0.6520 - val_acc: 0.6385\n",
      "Epoch 28/50\n",
      "250/250 [==============================] - 63s 250ms/step - loss: 0.5996 - acc: 0.6702 - val_loss: 0.6526 - val_acc: 0.6450\n",
      "Epoch 29/50\n",
      "250/250 [==============================] - 63s 254ms/step - loss: 0.5773 - acc: 0.6957 - val_loss: 0.6930 - val_acc: 0.6035\n",
      "Epoch 30/50\n",
      "250/250 [==============================] - 75s 299ms/step - loss: 0.6090 - acc: 0.6544 - val_loss: 0.6973 - val_acc: 0.6075\n",
      "Epoch 31/50\n",
      "250/250 [==============================] - 61s 244ms/step - loss: 0.6217 - acc: 0.6535 - val_loss: 0.6747 - val_acc: 0.6020\n",
      "Epoch 32/50\n",
      "250/250 [==============================] - 56s 226ms/step - loss: 0.6321 - acc: 0.6465 - val_loss: 0.6939 - val_acc: 0.5905\n",
      "Epoch 33/50\n",
      "250/250 [==============================] - 56s 224ms/step - loss: 0.6364 - acc: 0.6384 - val_loss: 0.6627 - val_acc: 0.5980\n",
      "Epoch 34/50\n",
      "250/250 [==============================] - 56s 224ms/step - loss: 0.6152 - acc: 0.6514 - val_loss: 0.7057 - val_acc: 0.5795\n",
      "Epoch 35/50\n",
      "250/250 [==============================] - 56s 224ms/step - loss: 0.6115 - acc: 0.6619 - val_loss: 0.6520 - val_acc: 0.6165\n",
      "Epoch 36/50\n",
      "250/250 [==============================] - 58s 233ms/step - loss: 0.6000 - acc: 0.6708 - val_loss: 0.7012 - val_acc: 0.6110\n",
      "Epoch 37/50\n",
      "250/250 [==============================] - 56s 223ms/step - loss: 0.5908 - acc: 0.6755 - val_loss: 0.6671 - val_acc: 0.6095\n",
      "Epoch 38/50\n",
      "250/250 [==============================] - 57s 227ms/step - loss: 0.5882 - acc: 0.6734 - val_loss: 0.7641 - val_acc: 0.5755\n",
      "Epoch 39/50\n",
      "250/250 [==============================] - 57s 226ms/step - loss: 0.5730 - acc: 0.6913 - val_loss: 0.7637 - val_acc: 0.6260\n",
      "Epoch 40/50\n",
      "250/250 [==============================] - 57s 227ms/step - loss: 0.5671 - acc: 0.6990 - val_loss: 0.6687 - val_acc: 0.6315\n",
      "Epoch 41/50\n",
      "250/250 [==============================] - 60s 239ms/step - loss: 0.5639 - acc: 0.6966 - val_loss: 0.6609 - val_acc: 0.6070\n",
      "Epoch 42/50\n",
      "250/250 [==============================] - 57s 228ms/step - loss: 0.5707 - acc: 0.7032 - val_loss: 0.6945 - val_acc: 0.6055\n",
      "Epoch 43/50\n",
      "250/250 [==============================] - 56s 225ms/step - loss: 0.5854 - acc: 0.6954 - val_loss: 0.6707 - val_acc: 0.6015\n",
      "Epoch 44/50\n",
      "250/250 [==============================] - 56s 224ms/step - loss: 0.5618 - acc: 0.7076 - val_loss: 0.6718 - val_acc: 0.6315\n",
      "Epoch 45/50\n",
      "250/250 [==============================] - 56s 224ms/step - loss: 0.5403 - acc: 0.7189 - val_loss: 0.6873 - val_acc: 0.6330\n",
      "Epoch 46/50\n",
      "250/250 [==============================] - 58s 234ms/step - loss: 0.5434 - acc: 0.7171 - val_loss: 0.7220 - val_acc: 0.6185\n",
      "Epoch 47/50\n",
      "250/250 [==============================] - 55s 222ms/step - loss: 0.5223 - acc: 0.7374 - val_loss: 0.7131 - val_acc: 0.6185\n",
      "Epoch 48/50\n",
      "250/250 [==============================] - 55s 221ms/step - loss: 0.5199 - acc: 0.7400 - val_loss: 0.7022 - val_acc: 0.6005\n",
      "Epoch 49/50\n",
      "250/250 [==============================] - 56s 222ms/step - loss: 0.5359 - acc: 0.7245 - val_loss: 0.8182 - val_acc: 0.6165\n",
      "Epoch 50/50\n",
      "250/250 [==============================] - 55s 222ms/step - loss: 0.5175 - acc: 0.7381 - val_loss: 0.7168 - val_acc: 0.6210\n"
     ]
    }
   ],
   "source": [
    "history = model.fit_generator(\n",
    "            train_data,\n",
    "            steps_per_epoch = 250,\n",
    "            epochs = 50,\n",
    "            verbose = 1,\n",
    "            validation_data = test_data,\n",
    "            validation_steps=63,\n",
    "            callbacks = [callbacks])"
   ]
  },
  {
   "cell_type": "markdown",
   "metadata": {},
   "source": [
    "In 50 epochs, only 73% accuracy was achieved on training set and 62% on validation data set. \n",
    "\n",
    "We can also plot the accuracy and losss graphs.\n"
   ]
  },
  {
   "cell_type": "code",
   "execution_count": 11,
   "metadata": {},
   "outputs": [
    {
     "data": {
      "text/plain": [
       "Text(0.5, 1.0, 'Training and validation loss')"
      ]
     },
     "execution_count": 11,
     "metadata": {},
     "output_type": "execute_result"
    },
    {
     "data": {
      "image/png": "[encoded data removed]",
      "text/plain": [
       "<Figure size 432x288 with 1 Axes>"
      ]
     },
     "metadata": {
      "needs_background": "light"
     },
     "output_type": "display_data"
    },
    {
     "data": {
      "image/png": "[encoded data removed]",
      "text/plain": [
       "<Figure size 432x288 with 1 Axes>"
      ]
     },
     "metadata": {
      "needs_background": "light"
     },
     "output_type": "display_data"
    }
   ],
   "source": [
    "%matplotlib inline\n",
    "import matplotlib.image  as mpimg\n",
    "import matplotlib.pyplot as plt\n",
    "\n",
    "accuracy = history.history['acc']\n",
    "val_accuracy = history.history['val_acc']\n",
    "loss = history.history['loss']\n",
    "val_loss = history.history['val_loss']\n",
    "\n",
    "epochs = range(len(accuracy)) \n",
    "plt.plot(epochs, accuracy, 'r')\n",
    "plt.plot(epochs, val_accuracy, 'b')\n",
    "plt.title('Training and validation accuracy')\n",
    "\n",
    "plt.figure()\n",
    "plt.plot(epochs, loss, 'r')\n",
    "plt.plot(epochs, val_loss, 'b')\n",
    "plt.title('Training and validation loss')"
   ]
  },
  {
   "cell_type": "markdown",
   "metadata": {},
   "source": [
    "Training accuracy gradually increased and validation accuracy fluctuated a lot but still in the range of 58 ~ 62%.\n",
    "\n",
    "The validation loss almost plateaued after 4~5 epochs and training loss was almost constant and started to decreased slightly after 40 epochs."
   ]
  },
  {
   "cell_type": "markdown",
   "metadata": {},
   "source": [
    "### Try 2\n",
    "Adding another 1 hidden layer with 1024 neurons"
   ]
  },
  {
   "cell_type": "code",
   "execution_count": 13,
   "metadata": {},
   "outputs": [
    {
     "name": "stdout",
     "output_type": "stream",
     "text": [
      "Model: \"sequential_2\"\n",
      "_________________________________________________________________\n",
      "Layer (type)                 Output Shape              Param #   \n",
      "=================================================================\n",
      "flatten_2 (Flatten)          (None, 49152)             0         \n",
      "_________________________________________________________________\n",
      "dense_4 (Dense)              (None, 512)               25166336  \n",
      "_________________________________________________________________\n",
      "dense_5 (Dense)              (None, 1024)              525312    \n",
      "_________________________________________________________________\n",
      "dense_6 (Dense)              (None, 1)                 1025      \n",
      "=================================================================\n",
      "Total params: 25,692,673\n",
      "Trainable params: 25,692,673\n",
      "Non-trainable params: 0\n",
      "_________________________________________________________________\n"
     ]
    }
   ],
   "source": [
    "model = tf.keras.models.Sequential([\n",
    "        tf.keras.layers.Flatten(input_shape = (128, 128, 3)),\n",
    "        tf.keras.layers.Dense(512, activation = 'relu'),\n",
    "        tf.keras.layers.Dense(1024, activation = 'relu'),\n",
    "        tf.keras.layers.Dense(1, activation = 'sigmoid')\n",
    "])\n",
    "\n",
    "model.compile(loss = 'binary_crossentropy', optimizer = 'adam', metrics = ['accuracy'])\n",
    "model.summary()"
   ]
  },
  {
   "cell_type": "code",
   "execution_count": null,
   "metadata": {
    "scrolled": true
   },
   "outputs": [
    {
     "name": "stdout",
     "output_type": "stream",
     "text": [
      "Epoch 1/50\n",
      "250/250 [==============================] - 106s 426ms/step - loss: 1.4338 - acc: 0.5179 - val_loss: 0.6745 - val_acc: 0.6040\n",
      "Epoch 2/50\n",
      "250/250 [==============================] - 105s 421ms/step - loss: 0.6864 - acc: 0.5450 - val_loss: 0.6808 - val_acc: 0.5040\n",
      "Epoch 3/50\n",
      "250/250 [==============================] - 99s 395ms/step - loss: 0.6850 - acc: 0.5409 - val_loss: 0.6911 - val_acc: 0.5095\n",
      "Epoch 4/50\n",
      "250/250 [==============================] - 107s 429ms/step - loss: 0.6928 - acc: 0.5181 - val_loss: 0.6935 - val_acc: 0.5000\n",
      "Epoch 5/50\n",
      "250/250 [==============================] - 118s 471ms/step - loss: 0.6934 - acc: 0.4913 - val_loss: 0.6932 - val_acc: 0.5000\n",
      "Epoch 6/50\n",
      "250/250 [==============================] - 106s 424ms/step - loss: 0.6932 - acc: 0.5026 - val_loss: 0.6932 - val_acc: 0.5000\n",
      "Epoch 7/50\n",
      "250/250 [==============================] - 103s 414ms/step - loss: 0.6937 - acc: 0.5004 - val_loss: 0.6931 - val_acc: 0.5000\n",
      "Epoch 8/50\n",
      "250/250 [==============================] - 107s 428ms/step - loss: 0.6933 - acc: 0.4895 - val_loss: 0.6931 - val_acc: 0.5000\n",
      "Epoch 9/50\n",
      "250/250 [==============================] - 106s 422ms/step - loss: 0.6932 - acc: 0.4981 - val_loss: 0.6931 - val_acc: 0.5000\n",
      "Epoch 10/50\n",
      "250/250 [==============================] - 105s 419ms/step - loss: 0.6932 - acc: 0.4996 - val_loss: 0.6932 - val_acc: 0.5000\n",
      "Epoch 11/50\n",
      "250/250 [==============================] - 129s 516ms/step - loss: 0.6932 - acc: 0.4955 - val_loss: 0.6931 - val_acc: 0.5000\n",
      "Epoch 12/50\n",
      "250/250 [==============================] - 102s 408ms/step - loss: 0.6932 - acc: 0.4992 - val_loss: 0.6931 - val_acc: 0.5000\n",
      "Epoch 13/50\n",
      "250/250 [==============================] - 117s 469ms/step - loss: 0.6932 - acc: 0.4991 - val_loss: 0.6931 - val_acc: 0.5000\n",
      "Epoch 14/50\n",
      "250/250 [==============================] - 110s 439ms/step - loss: 0.6932 - acc: 0.4924 - val_loss: 0.6931 - val_acc: 0.5000\n",
      "Epoch 15/50\n",
      "250/250 [==============================] - 107s 426ms/step - loss: 0.6932 - acc: 0.5029 - val_loss: 0.6932 - val_acc: 0.5000\n",
      "Epoch 16/50\n",
      "250/250 [==============================] - 123s 491ms/step - loss: 0.6932 - acc: 0.4897 - val_loss: 0.6931 - val_acc: 0.5000\n",
      "Epoch 17/50\n",
      "250/250 [==============================] - 110s 439ms/step - loss: 0.6932 - acc: 0.4944 - val_loss: 0.6931 - val_acc: 0.5000\n",
      "Epoch 18/50\n",
      "250/250 [==============================] - 108s 434ms/step - loss: 0.6932 - acc: 0.4966 - val_loss: 0.6931 - val_acc: 0.5000\n",
      "Epoch 19/50\n",
      "250/250 [==============================] - 131s 524ms/step - loss: 0.6932 - acc: 0.4880 - val_loss: 0.6931 - val_acc: 0.5000\n",
      "Epoch 20/50\n",
      "250/250 [==============================] - 109s 435ms/step - loss: 0.6932 - acc: 0.4922 - val_loss: 0.6932 - val_acc: 0.5000\n",
      "Epoch 21/50\n",
      "250/250 [==============================] - 130s 518ms/step - loss: 0.6932 - acc: 0.4893 - val_loss: 0.6931 - val_acc: 0.5000\n",
      "Epoch 22/50\n",
      "250/250 [==============================] - 120s 479ms/step - loss: 0.6934 - acc: 0.4971 - val_loss: 0.6931 - val_acc: 0.5000\n",
      "Epoch 23/50\n",
      "250/250 [==============================] - 123s 492ms/step - loss: 0.6932 - acc: 0.5000 - val_loss: 0.6932 - val_acc: 0.5000\n",
      "Epoch 24/50\n",
      "250/250 [==============================] - 129s 516ms/step - loss: 0.6932 - acc: 0.4990 - val_loss: 0.6932 - val_acc: 0.5000\n",
      "Epoch 25/50\n",
      "250/250 [==============================] - 132s 530ms/step - loss: 0.6932 - acc: 0.4938 - val_loss: 0.6931 - val_acc: 0.5000\n",
      "Epoch 26/50\n",
      "250/250 [==============================] - 187s 747ms/step - loss: 0.6932 - acc: 0.4995 - val_loss: 0.6931 - val_acc: 0.5000\n",
      "Epoch 27/50\n",
      "  1/250 [..............................] - ETA: 3:33 - loss: 0.6932 - acc: 0.4688"
     ]
    }
   ],
   "source": [
    "history = model.fit_generator(\n",
    "            train_data,\n",
    "            steps_per_epoch = 250,\n",
    "            epochs = 50,\n",
    "            verbose = 1,\n",
    "            validation_data = test_data,\n",
    "            validation_steps=63,\n",
    "            callbacks = [callbacks])"
   ]
  },
  {
   "cell_type": "markdown",
   "metadata": {},
   "source": [
    "Even with another layer of neurons the accuracy did not improve. After 8 epochs, the loss is constant."
   ]
  },
  {
   "cell_type": "markdown",
   "metadata": {},
   "source": [
    "### Try 3\n",
    "Using Convolutional Neural Networks with one Conv and one Max Pooling layer"
   ]
  },
  {
   "cell_type": "code",
   "execution_count": 5,
   "metadata": {},
   "outputs": [
    {
     "name": "stdout",
     "output_type": "stream",
     "text": [
      "Model: \"sequential_1\"\n",
      "_________________________________________________________________\n",
      "Layer (type)                 Output Shape              Param #   \n",
      "=================================================================\n",
      "conv2d_1 (Conv2D)            (None, 126, 126, 16)      448       \n",
      "_________________________________________________________________\n",
      "max_pooling2d_1 (MaxPooling2 (None, 63, 63, 16)        0         \n",
      "_________________________________________________________________\n",
      "flatten_1 (Flatten)          (None, 63504)             0         \n",
      "_________________________________________________________________\n",
      "dense_2 (Dense)              (None, 128)               8128640   \n",
      "_________________________________________________________________\n",
      "dense_3 (Dense)              (None, 1)                 129       \n",
      "=================================================================\n",
      "Total params: 8,129,217\n",
      "Trainable params: 8,129,217\n",
      "Non-trainable params: 0\n",
      "_________________________________________________________________\n"
     ]
    }
   ],
   "source": [
    "model = tf.keras.models.Sequential([\n",
    "        tf.keras.layers.Conv2D(16, (3,3), activation = 'relu', input_shape = (128, 128, 3)),\n",
    "        tf.keras.layers.MaxPooling2D((2,2)),\n",
    "        tf.keras.layers.Flatten(),\n",
    "        tf.keras.layers.Dense(128, activation = 'relu'),\n",
    "        tf.keras.layers.Dense(1, activation = 'sigmoid')\n",
    "])\n",
    "\n",
    "model.compile(loss = 'binary_crossentropy', optimizer = 'adam', metrics = ['accuracy'])\n",
    "model.summary()"
   ]
  },
  {
   "cell_type": "code",
   "execution_count": 6,
   "metadata": {},
   "outputs": [
    {
     "name": "stdout",
     "output_type": "stream",
     "text": [
      "Epoch 1/50\n",
      "250/250 [==============================] - 106s 424ms/step - loss: 0.7225 - acc: 0.6221 - val_loss: 0.6064 - val_acc: 0.6740\n",
      "Epoch 2/50\n",
      "250/250 [==============================] - 118s 470ms/step - loss: 0.5210 - acc: 0.7448 - val_loss: 0.6078 - val_acc: 0.6700\n",
      "Epoch 3/50\n",
      "250/250 [==============================] - 128s 514ms/step - loss: 0.4094 - acc: 0.8192 - val_loss: 0.5951 - val_acc: 0.6940\n",
      "Epoch 4/50\n",
      "250/250 [==============================] - 74s 296ms/step - loss: 0.2945 - acc: 0.8842 - val_loss: 0.6504 - val_acc: 0.6965\n",
      "Epoch 5/50\n",
      "250/250 [==============================] - 66s 263ms/step - loss: 0.1832 - acc: 0.9386 - val_loss: 0.7702 - val_acc: 0.6955\n",
      "Epoch 6/50\n",
      "250/250 [==============================] - 65s 260ms/step - loss: 0.1108 - acc: 0.9674 - val_loss: 0.8626 - val_acc: 0.6985\n",
      "Epoch 7/50\n",
      "249/250 [============================>.] - ETA: 0s - loss: 0.0592 - acc: 0.9873\n",
      "Achieved an accuracy of 98%\n",
      "250/250 [==============================] - 64s 257ms/step - loss: 0.0599 - acc: 0.9869 - val_loss: 0.9642 - val_acc: 0.7085\n"
     ]
    }
   ],
   "source": [
    "history = model.fit_generator(\n",
    "            train_data,\n",
    "            steps_per_epoch = 250,\n",
    "            epochs = 50,\n",
    "            verbose = 1,\n",
    "            validation_data = test_data,\n",
    "            validation_steps=63,\n",
    "            callbacks = [callbacks])"
   ]
  },
  {
   "cell_type": "markdown",
   "metadata": {},
   "source": [
    "Using a Convolutional Neural Network an accuracy of 98% was achieved in 8 epochs (so much better than that of a regular Neural Network)\n",
    "\n",
    "Even the Validation accuracy has reached 71% but this clearly indicates overfitting on the training set."
   ]
  },
  {
   "cell_type": "code",
   "execution_count": 7,
   "metadata": {},
   "outputs": [
    {
     "data": {
      "text/plain": [
       "Text(0.5, 1.0, 'Training and validation loss')"
      ]
     },
     "execution_count": 7,
     "metadata": {},
     "output_type": "execute_result"
    },
    {
     "data": {
      "image/png": "[encoded data removed]",
      "text/plain": [
       "<Figure size 432x288 with 1 Axes>"
      ]
     },
     "metadata": {
      "needs_background": "light"
     },
     "output_type": "display_data"
    },
    {
     "data": {
      "image/png": "[encoded data removed]",
      "text/plain": [
       "<Figure size 432x288 with 1 Axes>"
      ]
     },
     "metadata": {
      "needs_background": "light"
     },
     "output_type": "display_data"
    }
   ],
   "source": [
    "%matplotlib inline\n",
    "import matplotlib.image  as mpimg\n",
    "import matplotlib.pyplot as plt\n",
    "\n",
    "accuracy = history.history['acc']\n",
    "val_accuracy = history.history['val_acc']\n",
    "loss = history.history['loss']\n",
    "val_loss = history.history['val_loss']\n",
    "\n",
    "epochs = range(len(accuracy)) \n",
    "plt.plot(epochs, accuracy, 'r')\n",
    "plt.plot(epochs, val_accuracy, 'b')\n",
    "plt.title('Training and validation accuracy')\n",
    "\n",
    "plt.figure()\n",
    "plt.plot(epochs, loss, 'r')\n",
    "plt.plot(epochs, val_loss, 'b')\n",
    "plt.title('Training and validation loss')"
   ]
  },
  {
   "cell_type": "markdown",
   "metadata": {},
   "source": [
    "The training accuracy keeps increasing (loss decreases) and the validation accuracy is almost constant after 2 epochs (but the validation loss increases)"
   ]
  },
  {
   "cell_type": "code",
   "execution_count": null,
   "metadata": {},
   "outputs": [],
   "source": []
  },
  {
   "cell_type": "markdown",
   "metadata": {},
   "source": [
    "### Try 4\n",
    "Adding more convolutional layers and changing the neurons in the FCN layer. Adding more Pooling layers also reduces the image size by a significant amount.\n",
    "\n",
    "Removing the callbacks"
   ]
  },
  {
   "cell_type": "code",
   "execution_count": 11,
   "metadata": {},
   "outputs": [
    {
     "name": "stdout",
     "output_type": "stream",
     "text": [
      "Model: \"sequential_4\"\n",
      "_________________________________________________________________\n",
      "Layer (type)                 Output Shape              Param #   \n",
      "=================================================================\n",
      "conv2d_7 (Conv2D)            (None, 126, 126, 16)      448       \n",
      "_________________________________________________________________\n",
      "max_pooling2d_7 (MaxPooling2 (None, 63, 63, 16)        0         \n",
      "_________________________________________________________________\n",
      "conv2d_8 (Conv2D)            (None, 61, 61, 32)        4640      \n",
      "_________________________________________________________________\n",
      "max_pooling2d_8 (MaxPooling2 (None, 30, 30, 32)        0         \n",
      "_________________________________________________________________\n",
      "conv2d_9 (Conv2D)            (None, 28, 28, 64)        18496     \n",
      "_________________________________________________________________\n",
      "max_pooling2d_9 (MaxPooling2 (None, 14, 14, 64)        0         \n",
      "_________________________________________________________________\n",
      "flatten_4 (Flatten)          (None, 12544)             0         \n",
      "_________________________________________________________________\n",
      "dense_8 (Dense)              (None, 512)               6423040   \n",
      "_________________________________________________________________\n",
      "dense_9 (Dense)              (None, 1)                 513       \n",
      "=================================================================\n",
      "Total params: 6,447,137\n",
      "Trainable params: 6,447,137\n",
      "Non-trainable params: 0\n",
      "_________________________________________________________________\n"
     ]
    }
   ],
   "source": [
    "model = tf.keras.models.Sequential([\n",
    "        tf.keras.layers.Conv2D(16, (3,3), activation = 'relu', input_shape = (128, 128, 3)),\n",
    "        tf.keras.layers.MaxPooling2D((2,2)),\n",
    "        tf.keras.layers.Conv2D(32, (3,3), activation = 'relu'),\n",
    "        tf.keras.layers.MaxPooling2D((2,2)),\n",
    "        tf.keras.layers.Conv2D(64, (3,3), activation = 'relu'),\n",
    "        tf.keras.layers.MaxPooling2D((2,2)),\n",
    "        tf.keras.layers.Flatten(),\n",
    "        tf.keras.layers.Dense(512, activation = 'relu'),\n",
    "        tf.keras.layers.Dense(1, activation = 'sigmoid')\n",
    "])\n",
    "\n",
    "model.compile(loss = 'binary_crossentropy', optimizer = 'adam', metrics = ['accuracy'])\n",
    "model.summary()"
   ]
  },
  {
   "cell_type": "code",
   "execution_count": 12,
   "metadata": {
    "scrolled": true
   },
   "outputs": [
    {
     "name": "stdout",
     "output_type": "stream",
     "text": [
      "Epoch 1/50\n",
      "250/250 [==============================] - 105s 422ms/step - loss: 0.6753 - acc: 0.5913 - val_loss: 0.6023 - val_acc: 0.6690\n",
      "Epoch 2/50\n",
      "250/250 [==============================] - 104s 416ms/step - loss: 0.5651 - acc: 0.7050 - val_loss: 0.5455 - val_acc: 0.7255\n",
      "Epoch 3/50\n",
      "250/250 [==============================] - 104s 416ms/step - loss: 0.4956 - acc: 0.7607 - val_loss: 0.5085 - val_acc: 0.7535\n",
      "Epoch 4/50\n",
      "250/250 [==============================] - 105s 419ms/step - loss: 0.4292 - acc: 0.7970 - val_loss: 0.4856 - val_acc: 0.7660\n",
      "Epoch 5/50\n",
      "250/250 [==============================] - 108s 432ms/step - loss: 0.3708 - acc: 0.8322 - val_loss: 0.4956 - val_acc: 0.7785\n",
      "Epoch 6/50\n",
      "250/250 [==============================] - 105s 418ms/step - loss: 0.2998 - acc: 0.8714 - val_loss: 0.5033 - val_acc: 0.7885\n",
      "Epoch 7/50\n",
      "250/250 [==============================] - 106s 425ms/step - loss: 0.2260 - acc: 0.8999 - val_loss: 0.5800 - val_acc: 0.7700\n",
      "Epoch 8/50\n",
      "250/250 [==============================] - 108s 433ms/step - loss: 0.1510 - acc: 0.9410 - val_loss: 0.6921 - val_acc: 0.7640\n",
      "Epoch 9/50\n",
      "250/250 [==============================] - 109s 436ms/step - loss: 0.0877 - acc: 0.9671 - val_loss: 0.7946 - val_acc: 0.7780\n",
      "Epoch 10/50\n",
      "250/250 [==============================] - 105s 420ms/step - loss: 0.0562 - acc: 0.9805 - val_loss: 0.9693 - val_acc: 0.7715\n",
      "Epoch 11/50\n",
      "250/250 [==============================] - 105s 420ms/step - loss: 0.0459 - acc: 0.9847 - val_loss: 1.1010 - val_acc: 0.7600\n",
      "Epoch 12/50\n",
      "250/250 [==============================] - 109s 435ms/step - loss: 0.0237 - acc: 0.9939 - val_loss: 1.2821 - val_acc: 0.7785\n",
      "Epoch 13/50\n",
      "250/250 [==============================] - 106s 425ms/step - loss: 0.0421 - acc: 0.9856 - val_loss: 0.9780 - val_acc: 0.7790\n",
      "Epoch 14/50\n",
      "250/250 [==============================] - 105s 421ms/step - loss: 0.0162 - acc: 0.9956 - val_loss: 1.2854 - val_acc: 0.7860\n",
      "Epoch 15/50\n",
      "250/250 [==============================] - 106s 424ms/step - loss: 0.0117 - acc: 0.9964 - val_loss: 1.3587 - val_acc: 0.7665\n",
      "Epoch 16/50\n",
      "250/250 [==============================] - 106s 425ms/step - loss: 0.0258 - acc: 0.9923 - val_loss: 1.4045 - val_acc: 0.7585\n",
      "Epoch 17/50\n",
      "250/250 [==============================] - 105s 420ms/step - loss: 0.0241 - acc: 0.9915 - val_loss: 1.2611 - val_acc: 0.7760\n",
      "Epoch 18/50\n",
      "250/250 [==============================] - 105s 420ms/step - loss: 0.0127 - acc: 0.9962 - val_loss: 1.3925 - val_acc: 0.7705\n",
      "Epoch 19/50\n",
      "250/250 [==============================] - 106s 425ms/step - loss: 0.0152 - acc: 0.9959 - val_loss: 1.4318 - val_acc: 0.7820\n",
      "Epoch 20/50\n",
      "250/250 [==============================] - 105s 420ms/step - loss: 0.0126 - acc: 0.9961 - val_loss: 1.4367 - val_acc: 0.7645\n",
      "Epoch 21/50\n",
      "250/250 [==============================] - 105s 422ms/step - loss: 0.0421 - acc: 0.9845 - val_loss: 1.3017 - val_acc: 0.7545\n",
      "Epoch 22/50\n",
      "250/250 [==============================] - 107s 430ms/step - loss: 0.0197 - acc: 0.9944 - val_loss: 1.3608 - val_acc: 0.7685\n",
      "Epoch 23/50\n",
      "250/250 [==============================] - 107s 429ms/step - loss: 0.0117 - acc: 0.9973 - val_loss: 1.3952 - val_acc: 0.7735\n",
      "Epoch 24/50\n",
      "250/250 [==============================] - 108s 432ms/step - loss: 0.0053 - acc: 0.9986 - val_loss: 1.5735 - val_acc: 0.7700\n",
      "Epoch 25/50\n",
      "250/250 [==============================] - 108s 431ms/step - loss: 0.0017 - acc: 0.9998 - val_loss: 1.6115 - val_acc: 0.7760\n",
      "Epoch 26/50\n",
      "250/250 [==============================] - 108s 431ms/step - loss: 2.4186e-04 - acc: 1.0000 - val_loss: 1.7013 - val_acc: 0.7810\n",
      "Epoch 27/50\n",
      "250/250 [==============================] - 108s 431ms/step - loss: 1.0664e-04 - acc: 1.0000 - val_loss: 1.7670 - val_acc: 0.7795\n",
      "Epoch 28/50\n",
      "250/250 [==============================] - 108s 432ms/step - loss: 7.6780e-05 - acc: 1.0000 - val_loss: 1.8047 - val_acc: 0.7795\n",
      "Epoch 29/50\n",
      "250/250 [==============================] - 107s 428ms/step - loss: 5.8415e-05 - acc: 1.0000 - val_loss: 1.8380 - val_acc: 0.7805\n",
      "Epoch 30/50\n",
      "250/250 [==============================] - 109s 437ms/step - loss: 4.6675e-05 - acc: 1.0000 - val_loss: 1.8704 - val_acc: 0.7790\n",
      "Epoch 31/50\n",
      "250/250 [==============================] - 108s 431ms/step - loss: 3.8223e-05 - acc: 1.0000 - val_loss: 1.9003 - val_acc: 0.7795\n",
      "Epoch 32/50\n",
      "250/250 [==============================] - 107s 430ms/step - loss: 3.1452e-05 - acc: 1.0000 - val_loss: 1.9262 - val_acc: 0.7825\n",
      "Epoch 33/50\n",
      "250/250 [==============================] - 108s 431ms/step - loss: 2.6291e-05 - acc: 1.0000 - val_loss: 1.9542 - val_acc: 0.7835\n",
      "Epoch 34/50\n",
      "250/250 [==============================] - 108s 431ms/step - loss: 2.2017e-05 - acc: 1.0000 - val_loss: 1.9528 - val_acc: 0.7840\n",
      "Epoch 35/50\n",
      "250/250 [==============================] - 107s 428ms/step - loss: 1.8684e-05 - acc: 1.0000 - val_loss: 1.9776 - val_acc: 0.7850\n",
      "Epoch 36/50\n",
      "250/250 [==============================] - 108s 434ms/step - loss: 1.5984e-05 - acc: 1.0000 - val_loss: 2.0118 - val_acc: 0.7850\n",
      "Epoch 37/50\n",
      "250/250 [==============================] - 109s 437ms/step - loss: 1.3581e-05 - acc: 1.0000 - val_loss: 2.0341 - val_acc: 0.7840\n",
      "Epoch 38/50\n",
      "250/250 [==============================] - 114s 457ms/step - loss: 1.1644e-05 - acc: 1.0000 - val_loss: 2.0607 - val_acc: 0.7855\n",
      "Epoch 39/50\n",
      "250/250 [==============================] - 107s 429ms/step - loss: 9.9683e-06 - acc: 1.0000 - val_loss: 2.0700 - val_acc: 0.7845\n",
      "Epoch 40/50\n",
      "250/250 [==============================] - 112s 448ms/step - loss: 8.5405e-06 - acc: 1.0000 - val_loss: 2.0929 - val_acc: 0.7855\n",
      "Epoch 41/50\n",
      "250/250 [==============================] - 108s 431ms/step - loss: 7.3686e-06 - acc: 1.0000 - val_loss: 2.1151 - val_acc: 0.7850\n",
      "Epoch 42/50\n",
      "250/250 [==============================] - 108s 432ms/step - loss: 6.3619e-06 - acc: 1.0000 - val_loss: 2.1365 - val_acc: 0.7850\n",
      "Epoch 43/50\n",
      "250/250 [==============================] - 108s 433ms/step - loss: 5.4665e-06 - acc: 1.0000 - val_loss: 2.1681 - val_acc: 0.7865\n",
      "Epoch 44/50\n",
      "250/250 [==============================] - 108s 432ms/step - loss: 4.7299e-06 - acc: 1.0000 - val_loss: 2.2036 - val_acc: 0.7855\n",
      "Epoch 45/50\n",
      "250/250 [==============================] - 108s 432ms/step - loss: 4.0942e-06 - acc: 1.0000 - val_loss: 2.2344 - val_acc: 0.7865\n",
      "Epoch 46/50\n",
      "250/250 [==============================] - 109s 436ms/step - loss: 3.5444e-06 - acc: 1.0000 - val_loss: 2.2462 - val_acc: 0.7860\n",
      "Epoch 47/50\n",
      "250/250 [==============================] - 109s 438ms/step - loss: 3.0850e-06 - acc: 1.0000 - val_loss: 2.2698 - val_acc: 0.7870\n",
      "Epoch 48/50\n",
      "250/250 [==============================] - 109s 436ms/step - loss: 2.6780e-06 - acc: 1.0000 - val_loss: 2.2802 - val_acc: 0.7860\n",
      "Epoch 49/50\n",
      "250/250 [==============================] - 109s 436ms/step - loss: 2.3212e-06 - acc: 1.0000 - val_loss: 2.3016 - val_acc: 0.7860\n",
      "Epoch 50/50\n",
      "250/250 [==============================] - 109s 436ms/step - loss: 2.0434e-06 - acc: 1.0000 - val_loss: 2.3204 - val_acc: 0.7855\n"
     ]
    }
   ],
   "source": [
    "history = model.fit_generator(\n",
    "            train_data,\n",
    "            steps_per_epoch = 250,\n",
    "            epochs = 50,\n",
    "            verbose = 1,\n",
    "            validation_data = test_data,\n",
    "            validation_steps=63)"
   ]
  },
  {
   "cell_type": "code",
   "execution_count": 13,
   "metadata": {},
   "outputs": [
    {
     "data": {
      "text/plain": [
       "Text(0.5, 1.0, 'Training and validation loss')"
      ]
     },
     "execution_count": 13,
     "metadata": {},
     "output_type": "execute_result"
    },
    {
     "data": {
      "image/png": "[encoded data removed]",
      "text/plain": [
       "<Figure size 432x288 with 1 Axes>"
      ]
     },
     "metadata": {
      "needs_background": "light"
     },
     "output_type": "display_data"
    },
    {
     "data": {
      "image/png": "[encoded data removed]",
      "text/plain": [
       "<Figure size 432x288 with 1 Axes>"
      ]
     },
     "metadata": {
      "needs_background": "light"
     },
     "output_type": "display_data"
    }
   ],
   "source": [
    "%matplotlib inline\n",
    "import matplotlib.image  as mpimg\n",
    "import matplotlib.pyplot as plt\n",
    "\n",
    "accuracy = history.history['acc']\n",
    "val_accuracy = history.history['val_acc']\n",
    "loss = history.history['loss']\n",
    "val_loss = history.history['val_loss']\n",
    "\n",
    "epochs = range(len(accuracy)) \n",
    "plt.plot(epochs, accuracy, 'r')\n",
    "plt.plot(epochs, val_accuracy, 'b')\n",
    "plt.title('Training and validation accuracy')\n",
    "\n",
    "plt.figure()\n",
    "plt.plot(epochs, loss, 'r')\n",
    "plt.plot(epochs, val_loss, 'b')\n",
    "plt.title('Training and validation loss')"
   ]
  },
  {
   "cell_type": "markdown",
   "metadata": {},
   "source": [
    "After about 8 epochs, the training accuracy reached 98% but the validation accuracy plateaued at 77%. This is a clear sign of overfitting on the training set. \n",
    "\n",
    "Actually, the validation loss starts to increase after a certain point."
   ]
  },
  {
   "cell_type": "markdown",
   "metadata": {},
   "source": [
    "One way to avoid overfitting data is to get more data but if we don't have too much data we can use the ImageDataGenerator of keras to augment our data which uses different techniques like flipping, rotating, shearing etc to the images.\n",
    "\n",
    "### Try 5\n",
    "We can use the ImageDataGenerater to the earlier CNN and see if the validation accuracy improves"
   ]
  },
  {
   "cell_type": "code",
   "execution_count": 14,
   "metadata": {},
   "outputs": [
    {
     "name": "stdout",
     "output_type": "stream",
     "text": [
      "Found 8000 images belonging to 2 classes.\n",
      "Found 2000 images belonging to 2 classes.\n"
     ]
    }
   ],
   "source": [
    "train_generator = ImageDataGenerator(\n",
    "    rescale = 1/255,\n",
    "    rotation_range=50,\n",
    "    width_shift_range=0.3,\n",
    "    height_shift_range=0.3,\n",
    "    shear_range=0.2,\n",
    "    zoom_range=0.2,\n",
    "    horizontal_flip=True,\n",
    "    fill_mode='nearest')\n",
    "\n",
    "# Creating a generator for training data. Target_size resizes every image into the specified size.\n",
    "train_data = train_generator.flow_from_directory(\n",
    "                '/home/srikar/dataset/training_set/',\n",
    "                target_size = (128,128),\n",
    "                batch_size = 32,\n",
    "                class_mode = 'binary')\n",
    "\n",
    "# Test data remains the same\n",
    "test_genrator = ImageDataGenerator(rescale = 1/255)\n",
    "# Creating a generator for training data.\n",
    "test_data = test_genrator.flow_from_directory(\n",
    "                '/home/srikar/dataset/test_set/',\n",
    "                target_size = (128,128),\n",
    "                batch_size = 32,\n",
    "                class_mode = 'binary')"
   ]
  },
  {
   "cell_type": "code",
   "execution_count": 15,
   "metadata": {},
   "outputs": [
    {
     "name": "stdout",
     "output_type": "stream",
     "text": [
      "Model: \"sequential_5\"\n",
      "_________________________________________________________________\n",
      "Layer (type)                 Output Shape              Param #   \n",
      "=================================================================\n",
      "conv2d_10 (Conv2D)           (None, 126, 126, 16)      448       \n",
      "_________________________________________________________________\n",
      "max_pooling2d_10 (MaxPooling (None, 63, 63, 16)        0         \n",
      "_________________________________________________________________\n",
      "conv2d_11 (Conv2D)           (None, 61, 61, 32)        4640      \n",
      "_________________________________________________________________\n",
      "max_pooling2d_11 (MaxPooling (None, 30, 30, 32)        0         \n",
      "_________________________________________________________________\n",
      "conv2d_12 (Conv2D)           (None, 28, 28, 64)        18496     \n",
      "_________________________________________________________________\n",
      "max_pooling2d_12 (MaxPooling (None, 14, 14, 64)        0         \n",
      "_________________________________________________________________\n",
      "flatten_5 (Flatten)          (None, 12544)             0         \n",
      "_________________________________________________________________\n",
      "dense_10 (Dense)             (None, 512)               6423040   \n",
      "_________________________________________________________________\n",
      "dense_11 (Dense)             (None, 1)                 513       \n",
      "=================================================================\n",
      "Total params: 6,447,137\n",
      "Trainable params: 6,447,137\n",
      "Non-trainable params: 0\n",
      "_________________________________________________________________\n"
     ]
    }
   ],
   "source": [
    "model = tf.keras.models.Sequential([\n",
    "        tf.keras.layers.Conv2D(16, (3,3), activation = 'relu', input_shape = (128, 128, 3)),\n",
    "        tf.keras.layers.MaxPooling2D((2,2)),\n",
    "        tf.keras.layers.Conv2D(32, (3,3), activation = 'relu'),\n",
    "        tf.keras.layers.MaxPooling2D((2,2)),\n",
    "        tf.keras.layers.Conv2D(64, (3,3), activation = 'relu'),\n",
    "        tf.keras.layers.MaxPooling2D((2,2)),\n",
    "        tf.keras.layers.Flatten(),\n",
    "        tf.keras.layers.Dense(512, activation = 'relu'),\n",
    "        tf.keras.layers.Dense(1, activation = 'sigmoid')\n",
    "])\n",
    "\n",
    "model.compile(loss = 'binary_crossentropy', optimizer = 'adam', metrics = ['accuracy'])\n",
    "model.summary()"
   ]
  },
  {
   "cell_type": "code",
   "execution_count": 16,
   "metadata": {
    "scrolled": true
   },
   "outputs": [
    {
     "name": "stdout",
     "output_type": "stream",
     "text": [
      "Epoch 1/50\n",
      "250/250 [==============================] - 195s 779ms/step - loss: 0.7103 - acc: 0.5497 - val_loss: 0.6809 - val_acc: 0.5830\n",
      "Epoch 2/50\n",
      "250/250 [==============================] - 178s 714ms/step - loss: 0.6668 - acc: 0.5955 - val_loss: 0.6548 - val_acc: 0.6030\n",
      "Epoch 3/50\n",
      "250/250 [==============================] - 181s 722ms/step - loss: 0.6541 - acc: 0.6090 - val_loss: 0.6414 - val_acc: 0.6385\n",
      "Epoch 4/50\n",
      "250/250 [==============================] - 158s 632ms/step - loss: 0.6417 - acc: 0.6267 - val_loss: 0.6012 - val_acc: 0.6890\n",
      "Epoch 5/50\n",
      "250/250 [==============================] - 173s 693ms/step - loss: 0.6205 - acc: 0.6455 - val_loss: 0.6074 - val_acc: 0.6680\n",
      "Epoch 6/50\n",
      "250/250 [==============================] - 170s 681ms/step - loss: 0.6027 - acc: 0.6700 - val_loss: 0.5700 - val_acc: 0.7150\n",
      "Epoch 7/50\n",
      "250/250 [==============================] - 178s 713ms/step - loss: 0.5968 - acc: 0.6862 - val_loss: 0.5388 - val_acc: 0.7445\n",
      "Epoch 8/50\n",
      "250/250 [==============================] - 173s 693ms/step - loss: 0.5988 - acc: 0.6787 - val_loss: 0.5498 - val_acc: 0.7250\n",
      "Epoch 9/50\n",
      "250/250 [==============================] - 228s 913ms/step - loss: 0.5773 - acc: 0.6990 - val_loss: 0.5961 - val_acc: 0.6700\n",
      "Epoch 10/50\n",
      "149/250 [================>.............] - ETA: 3:58 - loss: 0.5782 - acc: 0.7007"
     ]
    },
    {
     "name": "stderr",
     "output_type": "stream",
     "text": [
      "W0711 15:36:25.259484 140543325484800 callbacks.py:257] Method (on_train_batch_end) is slow compared to the batch update (0.473748). Check your callbacks.\n"
     ]
    },
    {
     "name": "stdout",
     "output_type": "stream",
     "text": [
      "250/250 [==============================] - 452s 2s/step - loss: 0.5758 - acc: 0.7013 - val_loss: 0.5175 - val_acc: 0.7535\n",
      "Epoch 11/50\n",
      "250/250 [==============================] - 137s 547ms/step - loss: 0.5672 - acc: 0.7109 - val_loss: 0.5487 - val_acc: 0.7115\n",
      "Epoch 12/50\n",
      "250/250 [==============================] - 136s 543ms/step - loss: 0.5521 - acc: 0.7234 - val_loss: 0.5083 - val_acc: 0.7650\n",
      "Epoch 13/50\n",
      "250/250 [==============================] - 122s 486ms/step - loss: 0.5543 - acc: 0.7170 - val_loss: 0.5005 - val_acc: 0.7615\n",
      "Epoch 14/50\n",
      "250/250 [==============================] - 120s 481ms/step - loss: 0.5400 - acc: 0.7219 - val_loss: 0.5189 - val_acc: 0.7495\n",
      "Epoch 15/50\n",
      "250/250 [==============================] - 122s 489ms/step - loss: 0.5423 - acc: 0.7270 - val_loss: 0.4690 - val_acc: 0.7830\n",
      "Epoch 16/50\n",
      "250/250 [==============================] - 121s 485ms/step - loss: 0.5443 - acc: 0.7280 - val_loss: 0.4900 - val_acc: 0.7630\n",
      "Epoch 17/50\n",
      "250/250 [==============================] - 121s 484ms/step - loss: 0.5416 - acc: 0.7251 - val_loss: 0.5147 - val_acc: 0.7545\n",
      "Epoch 18/50\n",
      "250/250 [==============================] - 121s 482ms/step - loss: 0.5233 - acc: 0.7386 - val_loss: 0.4616 - val_acc: 0.7855\n",
      "Epoch 19/50\n",
      "250/250 [==============================] - 120s 480ms/step - loss: 0.5160 - acc: 0.7416 - val_loss: 0.4608 - val_acc: 0.7865\n",
      "Epoch 20/50\n",
      "250/250 [==============================] - 119s 478ms/step - loss: 0.5089 - acc: 0.7492 - val_loss: 0.4619 - val_acc: 0.7785\n",
      "Epoch 21/50\n",
      "250/250 [==============================] - 123s 492ms/step - loss: 0.5049 - acc: 0.7477 - val_loss: 0.4462 - val_acc: 0.7975\n",
      "Epoch 22/50\n",
      "250/250 [==============================] - 121s 483ms/step - loss: 0.4991 - acc: 0.7594 - val_loss: 0.4541 - val_acc: 0.7895\n",
      "Epoch 23/50\n",
      "250/250 [==============================] - 121s 484ms/step - loss: 0.5003 - acc: 0.7561 - val_loss: 0.4532 - val_acc: 0.7870\n",
      "Epoch 24/50\n",
      "250/250 [==============================] - 119s 477ms/step - loss: 0.4895 - acc: 0.7595 - val_loss: 0.4536 - val_acc: 0.7860\n",
      "Epoch 25/50\n",
      "250/250 [==============================] - 121s 483ms/step - loss: 0.4820 - acc: 0.7710 - val_loss: 0.4308 - val_acc: 0.8035\n",
      "Epoch 26/50\n",
      "250/250 [==============================] - 118s 474ms/step - loss: 0.4875 - acc: 0.7606 - val_loss: 0.4301 - val_acc: 0.7995\n",
      "Epoch 27/50\n",
      "250/250 [==============================] - 124s 496ms/step - loss: 0.4848 - acc: 0.7651 - val_loss: 0.4333 - val_acc: 0.7950\n",
      "Epoch 28/50\n",
      "250/250 [==============================] - 122s 489ms/step - loss: 0.4771 - acc: 0.7636 - val_loss: 0.4685 - val_acc: 0.7750\n",
      "Epoch 29/50\n",
      "250/250 [==============================] - 124s 494ms/step - loss: 0.4744 - acc: 0.7725 - val_loss: 0.4165 - val_acc: 0.8095\n",
      "Epoch 30/50\n",
      "250/250 [==============================] - 119s 474ms/step - loss: 0.4671 - acc: 0.7774 - val_loss: 0.4187 - val_acc: 0.8010\n",
      "Epoch 31/50\n",
      "250/250 [==============================] - 118s 471ms/step - loss: 0.4750 - acc: 0.7732 - val_loss: 0.4216 - val_acc: 0.7995\n",
      "Epoch 32/50\n",
      "250/250 [==============================] - 118s 474ms/step - loss: 0.4570 - acc: 0.7874 - val_loss: 0.4056 - val_acc: 0.8120\n",
      "Epoch 33/50\n",
      "250/250 [==============================] - 118s 472ms/step - loss: 0.4493 - acc: 0.7885 - val_loss: 0.3945 - val_acc: 0.8150\n",
      "Epoch 34/50\n",
      "250/250 [==============================] - 117s 467ms/step - loss: 0.4587 - acc: 0.7818 - val_loss: 0.4032 - val_acc: 0.8160\n",
      "Epoch 35/50\n",
      "250/250 [==============================] - 118s 472ms/step - loss: 0.4489 - acc: 0.7849 - val_loss: 0.4201 - val_acc: 0.8070\n",
      "Epoch 36/50\n",
      "250/250 [==============================] - 118s 470ms/step - loss: 0.4497 - acc: 0.7843 - val_loss: 0.4105 - val_acc: 0.8145\n",
      "Epoch 37/50\n",
      "250/250 [==============================] - 118s 472ms/step - loss: 0.4490 - acc: 0.7874 - val_loss: 0.3918 - val_acc: 0.8185\n",
      "Epoch 38/50\n",
      "250/250 [==============================] - 117s 469ms/step - loss: 0.4375 - acc: 0.7936 - val_loss: 0.3709 - val_acc: 0.8355\n",
      "Epoch 39/50\n",
      "250/250 [==============================] - 117s 469ms/step - loss: 0.4343 - acc: 0.7972 - val_loss: 0.4080 - val_acc: 0.8140\n",
      "Epoch 40/50\n",
      "250/250 [==============================] - 116s 466ms/step - loss: 0.4462 - acc: 0.7905 - val_loss: 0.3899 - val_acc: 0.8320\n",
      "Epoch 41/50\n",
      "250/250 [==============================] - 115s 461ms/step - loss: 0.4416 - acc: 0.7921 - val_loss: 0.4151 - val_acc: 0.8130\n",
      "Epoch 42/50\n",
      "250/250 [==============================] - 116s 464ms/step - loss: 0.4349 - acc: 0.7952 - val_loss: 0.3987 - val_acc: 0.8230\n",
      "Epoch 43/50\n",
      "250/250 [==============================] - 117s 470ms/step - loss: 0.4279 - acc: 0.7983 - val_loss: 0.4029 - val_acc: 0.8325\n",
      "Epoch 44/50\n",
      "250/250 [==============================] - 115s 461ms/step - loss: 0.4239 - acc: 0.8021 - val_loss: 0.4572 - val_acc: 0.8035\n",
      "Epoch 45/50\n",
      "250/250 [==============================] - 117s 466ms/step - loss: 0.4369 - acc: 0.7968 - val_loss: 0.5253 - val_acc: 0.7340\n",
      "Epoch 46/50\n",
      "250/250 [==============================] - 116s 462ms/step - loss: 0.4369 - acc: 0.7954 - val_loss: 0.3796 - val_acc: 0.8260\n",
      "Epoch 47/50\n",
      "250/250 [==============================] - 115s 461ms/step - loss: 0.4137 - acc: 0.8100 - val_loss: 0.3743 - val_acc: 0.8285\n",
      "Epoch 48/50\n",
      "250/250 [==============================] - 120s 479ms/step - loss: 0.4194 - acc: 0.8027 - val_loss: 0.4049 - val_acc: 0.8225\n",
      "Epoch 49/50\n",
      "250/250 [==============================] - 116s 465ms/step - loss: 0.4092 - acc: 0.8080 - val_loss: 0.3595 - val_acc: 0.8515\n",
      "Epoch 50/50\n",
      "250/250 [==============================] - 115s 462ms/step - loss: 0.4161 - acc: 0.8105 - val_loss: 0.3691 - val_acc: 0.8480\n"
     ]
    }
   ],
   "source": [
    "history = model.fit_generator(\n",
    "            train_data,\n",
    "            steps_per_epoch = 250,\n",
    "            epochs = 50,\n",
    "            verbose = 1,\n",
    "            validation_data = test_data,\n",
    "            validation_steps=63,\n",
    "            callbacks = [callbacks])"
   ]
  },
  {
   "cell_type": "code",
   "execution_count": 17,
   "metadata": {},
   "outputs": [],
   "source": [
    "histories = []\n",
    "histories.append(history)"
   ]
  },
  {
   "cell_type": "code",
   "execution_count": 18,
   "metadata": {},
   "outputs": [
    {
     "data": {
      "text/plain": [
       "[<tensorflow.python.keras.callbacks.History at 0x7fd278739550>]"
      ]
     },
     "execution_count": 18,
     "metadata": {},
     "output_type": "execute_result"
    }
   ],
   "source": [
    "histories"
   ]
  },
  {
   "cell_type": "code",
   "execution_count": 20,
   "metadata": {},
   "outputs": [
    {
     "data": {
      "text/plain": [
       "Text(0.5, 1.0, 'Training and validation loss')"
      ]
     },
     "execution_count": 20,
     "metadata": {},
     "output_type": "execute_result"
    },
    {
     "data": {
      "image/png": "[encoded data removed]",
      "text/plain": [
       "<Figure size 432x288 with 1 Axes>"
      ]
     },
     "metadata": {
      "needs_background": "light"
     },
     "output_type": "display_data"
    },
    {
     "data": {
      "image/png": "[encoded data removed]",
      "text/plain": [
       "<Figure size 432x288 with 1 Axes>"
      ]
     },
     "metadata": {
      "needs_background": "light"
     },
     "output_type": "display_data"
    }
   ],
   "source": [
    "%matplotlib inline\n",
    "import matplotlib.image  as mpimg\n",
    "import matplotlib.pyplot as plt\n",
    "\n",
    "accuracy = history.history['acc']\n",
    "val_accuracy = history.history['val_acc']\n",
    "loss = history.history['loss']\n",
    "val_loss = history.history['val_loss']\n",
    "\n",
    "epochs = range(len(accuracy)) \n",
    "plt.plot(epochs, accuracy, 'r')\n",
    "plt.plot(epochs, val_accuracy, 'b')\n",
    "plt.title('Training and validation accuracy')\n",
    "\n",
    "plt.figure()\n",
    "plt.plot(epochs, loss, 'r')\n",
    "plt.plot(epochs, val_loss, 'b')\n",
    "plt.title('Training and validation loss')"
   ]
  },
  {
   "cell_type": "markdown",
   "metadata": {},
   "source": [
    "Both the training and validation accuracy keep increasing with the number of epochs and the losses also keep decreasing. If we run for more epochs the loss might decrease even further.\n",
    "\n",
    "The data augmentation is a useful technique for improving the accuracy. If the validation set is not very different from the train set then data augmentation might actually give worse accuracy on the validation set as it won't encounter any such type of processed images."
   ]
  }
 ],
 "metadata": {
  "kernelspec": {
   "display_name": "Python 3",
   "language": "python",
   "name": "python3"
  },
  "language_info": {
   "codemirror_mode": {
    "name": "ipython",
    "version": 3
   },
   "file_extension": ".py",
   "mimetype": "text/x-python",
   "name": "python",
   "nbconvert_exporter": "python",
   "pygments_lexer": "ipython3",
   "version": "3.5.2"
  }
 },
 "nbformat": 4,
 "nbformat_minor": 2
}
